{
 "cells": [
  {
   "cell_type": "code",
   "execution_count": 12,
   "id": "0c4511ee",
   "metadata": {},
   "outputs": [],
   "source": [
    "from bs4 import BeautifulSoup\n",
    "contenido_html = open(\"index.html\")\n",
    "soup = BeautifulSoup(contenido_html, \"lxml\")"
   ]
  },
  {
   "cell_type": "code",
   "execution_count": 20,
   "id": "9dc9fcb2",
   "metadata": {},
   "outputs": [
    {
     "name": "stdout",
     "output_type": "stream",
     "text": [
      "<!DOCTYPE html>\n",
      "<html lang=\"en\">\n",
      " <head>\n",
      "  <title>\n",
      "   BeautifulSoup\n",
      "  </title>\n",
      "  <link href=\"styles.css\" rel=\"stylesheet\"/>\n",
      " </head>\n",
      " <body>\n",
      "  <div class=\"header\">\n",
      "   <h1 class=\"titulo\">\n",
      "    <b>\n",
      "     Titulo\n",
      "    </b>\n",
      "   </h1>\n",
      "   <p class=\"links\">\n",
      "    <a class=\"link\" href=\"http://example.com/link1\" id=\"link1\">\n",
      "     Primer Link\n",
      "    </a>\n",
      "    <a class=\"link\" id=\"link2\">\n",
      "     Segundo Link\n",
      "    </a>\n",
      "    <a class=\"link\" id=\"link3\">\n",
      "     Tercer Link\n",
      "    </a>\n",
      "   </p>\n",
      "  </div>\n",
      "  <div class=\"footer\">\n",
      "   <ul>\n",
      "    <!-- li.item*3 -->\n",
      "    <li class=\"item\">\n",
      "     item1\n",
      "    </li>\n",
      "    <li class=\"item\">\n",
      "     item2\n",
      "    </li>\n",
      "    <li class=\"item_final\">\n",
      "     item3\n",
      "    </li>\n",
      "   </ul>\n",
      "  </div>\n",
      " </body>\n",
      "</html>\n"
     ]
    }
   ],
   "source": [
    "# print(soup.contents)\n",
    "print(soup.prettify())"
   ]
  },
  {
   "cell_type": "code",
   "execution_count": 18,
   "id": "618230e4",
   "metadata": {},
   "outputs": [
    {
     "name": "stdout",
     "output_type": "stream",
     "text": [
      "<head>\n",
      "<title>BeautifulSoup</title>\n",
      "<link href=\"styles.css\" rel=\"stylesheet\"/>\n",
      "</head>\n"
     ]
    }
   ],
   "source": [
    "print(soup.html.head) # para acceder al head"
   ]
  },
  {
   "cell_type": "code",
   "execution_count": 24,
   "id": "50e7cc92",
   "metadata": {},
   "outputs": [
    {
     "name": "stdout",
     "output_type": "stream",
     "text": [
      "<title>BeautifulSoup</title>\n",
      "Primer Link\n",
      "{'href': 'http://example.com/link1', 'class': ['link'], 'id': 'link1'}\n",
      "item1\n"
     ]
    }
   ],
   "source": [
    "print(soup.html.title)\n",
    "print(soup.body.a.text) # contenido del a\n",
    "print(soup.body.a.attrs) # los atributos\n",
    "print(soup.body.ul.li.text) # el texto del primer item"
   ]
  },
  {
   "cell_type": "code",
   "execution_count": 26,
   "id": "b717b9ec",
   "metadata": {},
   "outputs": [
    {
     "name": "stdout",
     "output_type": "stream",
     "text": [
      "<ul>\n",
      "<!-- li.item*3 -->\n",
      "<li class=\"item\">item1</li>\n",
      "<li class=\"item\">item2</li>\n",
      "<li class=\"item_final\">item3</li>\n",
      "</ul>\n"
     ]
    }
   ],
   "source": [
    "ul = soup.ul\n",
    "print(ul)"
   ]
  },
  {
   "cell_type": "code",
   "execution_count": 29,
   "id": "3b7c6f6b",
   "metadata": {},
   "outputs": [
    {
     "name": "stdout",
     "output_type": "stream",
     "text": [
      "<li class=\"item\">item1</li>\n"
     ]
    }
   ],
   "source": [
    "# el primer item\n",
    "li_primer = ul.li\n",
    "print(li_primer)"
   ]
  },
  {
   "cell_type": "code",
   "execution_count": 32,
   "id": "cb9a8728",
   "metadata": {},
   "outputs": [
    {
     "name": "stdout",
     "output_type": "stream",
     "text": [
      "<li class=\"item_final\">item3</li>\n",
      "[<li class=\"item_final\">item3</li>]\n"
     ]
    }
   ],
   "source": [
    "# método find y find_all\n",
    "\n",
    "# utilizando el find\n",
    "print(soup.find(\"li\", class_=\"item_final\"))\n",
    "# utilizando el find_all\n",
    "print(soup.find_all(\"li\", class_=\"item_final\"))"
   ]
  },
  {
   "cell_type": "code",
   "execution_count": 40,
   "id": "e4b50302",
   "metadata": {},
   "outputs": [
    {
     "name": "stdout",
     "output_type": "stream",
     "text": [
      "[<li class=\"item\">item1</li>, <li class=\"item\">item2</li>]\n",
      "<li class=\"item\">item1</li>\n",
      "[<li class=\"item\">item1</li>]\n"
     ]
    }
   ],
   "source": [
    "print(soup.find_all(\"li\", class_=\"item\"))\n",
    "print(soup.find_all(\"li\", class_=\"item\")[0])\n",
    "# limitar la lista\n",
    "print(soup.find_all(\"li\", class_=\"item\", limit=1))"
   ]
  },
  {
   "cell_type": "code",
   "execution_count": 43,
   "id": "92264bce",
   "metadata": {},
   "outputs": [
    {
     "name": "stdout",
     "output_type": "stream",
     "text": [
      "[<a class=\"link\" href=\"http://example.com/link1\" id=\"link1\">Primer Link</a>, <a class=\"link\" id=\"link2\">Segundo Link</a>, <a class=\"link\" id=\"link3\">Tercer Link</a>]\n",
      "http://example.com/link1\n",
      "http://example.com/link1\n"
     ]
    }
   ],
   "source": [
    "# obtener un atributo de un tag \"etiqueta html\"\n",
    "print(soup.find_all(\"a\", class_=\"link\"))\n",
    "# podemos obtener el primero y ademas el contenido de su href\n",
    "print(soup.find_all(\"a\", class_=\"link\")[0][\"href\"])\n",
    "print(soup.find_all(\"a\", class_=\"link\")[0].get(\"href\"))"
   ]
  },
  {
   "cell_type": "code",
   "execution_count": 45,
   "id": "9608b7cd",
   "metadata": {},
   "outputs": [
    {
     "name": "stdout",
     "output_type": "stream",
     "text": [
      "[<a class=\"link\" id=\"link2\">Segundo Link</a>]\n"
     ]
    }
   ],
   "source": [
    "# por la clase y por el id\n",
    "print(soup.find_all(\"a\", attrs={\"class\":\"link\", \"id\":\"link2\"}))"
   ]
  },
  {
   "cell_type": "code",
   "execution_count": 46,
   "id": "8f3668c2",
   "metadata": {},
   "outputs": [
    {
     "name": "stdout",
     "output_type": "stream",
     "text": [
      "[<body>\n",
      "<div class=\"header\">\n",
      "<h1 class=\"titulo\"><b>Titulo</b></h1>\n",
      "<p class=\"links\">\n",
      "<a class=\"link\" href=\"http://example.com/link1\" id=\"link1\">Primer Link</a>\n",
      "<a class=\"link\" id=\"link2\">Segundo Link</a>\n",
      "<a class=\"link\" id=\"link3\">Tercer Link</a>\n",
      "</p>\n",
      "</div>\n",
      "<div class=\"footer\">\n",
      "<ul>\n",
      "<!-- li.item*3 -->\n",
      "<li class=\"item\">item1</li>\n",
      "<li class=\"item\">item2</li>\n",
      "<li class=\"item_final\">item3</li>\n",
      "</ul>\n",
      "</div>\n",
      "</body>, <b>Titulo</b>]\n"
     ]
    }
   ],
   "source": [
    "# utilizamos las expresiones regulares regex, podemos encontrar un tag (etiqueta html) por ejemplo\n",
    "# que comienze con b\n",
    "import re\n",
    "print(soup.find_all(re.compile(\"^b\")))"
   ]
  }
 ],
 "metadata": {
  "kernelspec": {
   "display_name": "Python 3 (ipykernel)",
   "language": "python",
   "name": "python3"
  },
  "language_info": {
   "codemirror_mode": {
    "name": "ipython",
    "version": 3
   },
   "file_extension": ".py",
   "mimetype": "text/x-python",
   "name": "python",
   "nbconvert_exporter": "python",
   "pygments_lexer": "ipython3",
   "version": "3.9.7"
  }
 },
 "nbformat": 4,
 "nbformat_minor": 5
}
