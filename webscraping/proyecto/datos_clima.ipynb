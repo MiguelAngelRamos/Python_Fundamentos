{
 "cells": [
  {
   "cell_type": "code",
   "execution_count": 2,
   "id": "aa83de54",
   "metadata": {},
   "outputs": [],
   "source": [
    "import re # expresiones regulares\n",
    "import requests\n",
    "from bs4 import BeautifulSoup"
   ]
  },
  {
   "cell_type": "code",
   "execution_count": 5,
   "id": "c2f71767",
   "metadata": {},
   "outputs": [],
   "source": [
    "contenido_html = requests.get(\"https://weather.com/es-CL/tiempo/horario/l/25ef471b2bfd6c7bfba7e5df62734cb53d5ea4c92ba9c44a3e48c8e938c539b3\").content\n",
    "soup = BeautifulSoup(contenido_html, \"lxml\")"
   ]
  },
  {
   "cell_type": "code",
   "execution_count": 8,
   "id": "55d16962",
   "metadata": {},
   "outputs": [
    {
     "name": "stdout",
     "output_type": "stream",
     "text": [
      "<span class=\"DetailsSummary--tempValue--1K4ka\" data-testid=\"TemperatureValue\">24°</span>\n"
     ]
    }
   ],
   "source": [
    "print(soup.find(\"span\", class_=\"DetailsSummary--tempValue--1K4ka\"))"
   ]
  },
  {
   "cell_type": "code",
   "execution_count": 20,
   "id": "df9b3eb7",
   "metadata": {},
   "outputs": [],
   "source": [
    "# Extrayendo los dias\n",
    "dias_diccionario = {}\n",
    "# currentDateId0 el numero despues del \"Id\" va cambiando\n",
    "for dia in soup.find_all(\"h3\", attrs={\"id\": re.compile(\"^currentDateId\")}):\n",
    "    #print(dia)\n",
    "    key=dia.get(\"id\").split(\"currentDateId\")[1]\n",
    "    value = dia.text # obtener el solo el texto del tag por ejemplo : jueves, 7 de abril\n",
    "    # creamos el diccionario\n",
    "    dias_diccionario[key] = value\n",
    "    \n"
   ]
  },
  {
   "cell_type": "code",
   "execution_count": 22,
   "id": "29e7027d",
   "metadata": {},
   "outputs": [
    {
     "data": {
      "text/plain": [
       "{'0': 'jueves, 7 de abril',\n",
       " '12': 'viernes, 8 de abril',\n",
       " '36': 'sábado, 9 de abril'}"
      ]
     },
     "execution_count": 22,
     "metadata": {},
     "output_type": "execute_result"
    }
   ],
   "source": [
    "dias_diccionario"
   ]
  },
  {
   "cell_type": "code",
   "execution_count": 23,
   "id": "9798da63",
   "metadata": {},
   "outputs": [],
   "source": [
    "# para cada dia y cada hora\n",
    "datos = {\n",
    "    \"dia\": [],\n",
    "    \"hora\": [],\n",
    "    \"temperatura\": [],\n",
    "    \"nubosidad\": [],\n",
    "    \"precipitacion\": [],\n",
    "    \"viento\": []\n",
    "}\n",
    "# las ventjas de usar un diccionario es para tener la informacion ordenada \n",
    "# y luego transformarla en un data frame"
   ]
  },
  {
   "cell_type": "code",
   "execution_count": 32,
   "id": "e36457e7",
   "metadata": {},
   "outputs": [],
   "source": [
    "# vamos a tomar los datos por hora en el resumen(summary no existe una id)\n",
    "for datos_por_hora in soup.find_all(\"summary\", class_=\"Disclosure--Summary--UuybP DaypartDetails--Summary--3IBUr Disclosure--hideBorderOnSummaryOpen--ZdSDc\"):\n",
    "    key = datos_por_hora.get(\"aria-labelledby\").split()[0].split(\"currentDateId\")[1]\n",
    "    datos[\"dia\"].append(dias_diccionario[key])\n",
    "    datos[\"hora\"].append(datos_por_hora.find(\"h2\", attrs={\"data-testid\":\"daypartName\"}).text)\n",
    "    datos[\"temperatura\"].append(datos_por_hora.find(\"div\", attrs={\"data-testid\":\"detailsTemperature\"}).span.text)\n",
    "    datos[\"nubosidad\"].append(datos_por_hora.find(\"div\", attrs={\"data-testid\":\"wxIcon\"}).span.text)\n",
    "    datos[\"precipitacion\"].append(datos_por_hora.find(\"div\", attrs={\"data-testid\":\"Precip\"}).span.text)\n",
    "    datos[\"viento\"].append(datos_por_hora.find(\"div\", attrs={\"data-testid\":\"wind\"}).span.text)\n",
    "    "
   ]
  },
  {
   "cell_type": "code",
   "execution_count": 35,
   "id": "233da45a",
   "metadata": {},
   "outputs": [
    {
     "data": {
      "text/html": [
       "<div>\n",
       "<style scoped>\n",
       "    .dataframe tbody tr th:only-of-type {\n",
       "        vertical-align: middle;\n",
       "    }\n",
       "\n",
       "    .dataframe tbody tr th {\n",
       "        vertical-align: top;\n",
       "    }\n",
       "\n",
       "    .dataframe thead th {\n",
       "        text-align: right;\n",
       "    }\n",
       "</style>\n",
       "<table border=\"1\" class=\"dataframe\">\n",
       "  <thead>\n",
       "    <tr style=\"text-align: right;\">\n",
       "      <th></th>\n",
       "      <th>dia</th>\n",
       "      <th>hora</th>\n",
       "      <th>temperatura</th>\n",
       "      <th>nubosidad</th>\n",
       "      <th>precipitacion</th>\n",
       "      <th>viento</th>\n",
       "    </tr>\n",
       "  </thead>\n",
       "  <tbody>\n",
       "    <tr>\n",
       "      <th>0</th>\n",
       "      <td>jueves, 7 de abril</td>\n",
       "      <td>12:00</td>\n",
       "      <td>24°</td>\n",
       "      <td>Mayormente soleado</td>\n",
       "      <td>0%</td>\n",
       "      <td>SSO 3 km/h</td>\n",
       "    </tr>\n",
       "    <tr>\n",
       "      <th>1</th>\n",
       "      <td>jueves, 7 de abril</td>\n",
       "      <td>13:00</td>\n",
       "      <td>26°</td>\n",
       "      <td>Mayormente soleado</td>\n",
       "      <td>0%</td>\n",
       "      <td>S 6 km/h</td>\n",
       "    </tr>\n",
       "    <tr>\n",
       "      <th>2</th>\n",
       "      <td>jueves, 7 de abril</td>\n",
       "      <td>14:00</td>\n",
       "      <td>27°</td>\n",
       "      <td>Soleado</td>\n",
       "      <td>0%</td>\n",
       "      <td>SSO 9 km/h</td>\n",
       "    </tr>\n",
       "    <tr>\n",
       "      <th>3</th>\n",
       "      <td>jueves, 7 de abril</td>\n",
       "      <td>15:00</td>\n",
       "      <td>27°</td>\n",
       "      <td>Soleado</td>\n",
       "      <td>0%</td>\n",
       "      <td>SSO 15 km/h</td>\n",
       "    </tr>\n",
       "    <tr>\n",
       "      <th>4</th>\n",
       "      <td>jueves, 7 de abril</td>\n",
       "      <td>16:00</td>\n",
       "      <td>28°</td>\n",
       "      <td>Soleado</td>\n",
       "      <td>0%</td>\n",
       "      <td>SSO 15 km/h</td>\n",
       "    </tr>\n",
       "    <tr>\n",
       "      <th>...</th>\n",
       "      <td>...</td>\n",
       "      <td>...</td>\n",
       "      <td>...</td>\n",
       "      <td>...</td>\n",
       "      <td>...</td>\n",
       "      <td>...</td>\n",
       "    </tr>\n",
       "    <tr>\n",
       "      <th>138</th>\n",
       "      <td>sábado, 9 de abril</td>\n",
       "      <td>6:00</td>\n",
       "      <td>11°</td>\n",
       "      <td>Despejado</td>\n",
       "      <td>6%</td>\n",
       "      <td>S 4 km/h</td>\n",
       "    </tr>\n",
       "    <tr>\n",
       "      <th>139</th>\n",
       "      <td>sábado, 9 de abril</td>\n",
       "      <td>7:00</td>\n",
       "      <td>11°</td>\n",
       "      <td>Despejado</td>\n",
       "      <td>6%</td>\n",
       "      <td>SE 4 km/h</td>\n",
       "    </tr>\n",
       "    <tr>\n",
       "      <th>140</th>\n",
       "      <td>sábado, 9 de abril</td>\n",
       "      <td>8:00</td>\n",
       "      <td>11°</td>\n",
       "      <td>Mayormente soleado</td>\n",
       "      <td>5%</td>\n",
       "      <td>S 4 km/h</td>\n",
       "    </tr>\n",
       "    <tr>\n",
       "      <th>141</th>\n",
       "      <td>sábado, 9 de abril</td>\n",
       "      <td>9:00</td>\n",
       "      <td>13°</td>\n",
       "      <td>Mayormente soleado</td>\n",
       "      <td>4%</td>\n",
       "      <td>SSO 5 km/h</td>\n",
       "    </tr>\n",
       "    <tr>\n",
       "      <th>142</th>\n",
       "      <td>sábado, 9 de abril</td>\n",
       "      <td>10:00</td>\n",
       "      <td>14°</td>\n",
       "      <td>Mayormente soleado</td>\n",
       "      <td>3%</td>\n",
       "      <td>SO 6 km/h</td>\n",
       "    </tr>\n",
       "  </tbody>\n",
       "</table>\n",
       "<p>143 rows × 6 columns</p>\n",
       "</div>"
      ],
      "text/plain": [
       "                    dia   hora temperatura           nubosidad precipitacion  \\\n",
       "0    jueves, 7 de abril  12:00         24°  Mayormente soleado            0%   \n",
       "1    jueves, 7 de abril  13:00         26°  Mayormente soleado            0%   \n",
       "2    jueves, 7 de abril  14:00         27°             Soleado            0%   \n",
       "3    jueves, 7 de abril  15:00         27°             Soleado            0%   \n",
       "4    jueves, 7 de abril  16:00         28°             Soleado            0%   \n",
       "..                  ...    ...         ...                 ...           ...   \n",
       "138  sábado, 9 de abril   6:00         11°           Despejado            6%   \n",
       "139  sábado, 9 de abril   7:00         11°           Despejado            6%   \n",
       "140  sábado, 9 de abril   8:00         11°  Mayormente soleado            5%   \n",
       "141  sábado, 9 de abril   9:00         13°  Mayormente soleado            4%   \n",
       "142  sábado, 9 de abril  10:00         14°  Mayormente soleado            3%   \n",
       "\n",
       "          viento  \n",
       "0     SSO 3 km/h  \n",
       "1       S 6 km/h  \n",
       "2     SSO 9 km/h  \n",
       "3    SSO 15 km/h  \n",
       "4    SSO 15 km/h  \n",
       "..           ...  \n",
       "138     S 4 km/h  \n",
       "139    SE 4 km/h  \n",
       "140     S 4 km/h  \n",
       "141   SSO 5 km/h  \n",
       "142    SO 6 km/h  \n",
       "\n",
       "[143 rows x 6 columns]"
      ]
     },
     "execution_count": 35,
     "metadata": {},
     "output_type": "execute_result"
    }
   ],
   "source": [
    "# vamos a transformar nuestro diccionario en pandas data frame\n",
    "import pandas as pd\n",
    "# el diccionario en un dataframe de pandas\n",
    "df = pd.DataFrame(datos)\n",
    "df.head(-1)"
   ]
  },
  {
   "cell_type": "code",
   "execution_count": 37,
   "id": "216876ec",
   "metadata": {},
   "outputs": [],
   "source": [
    "df.to_excel(\"datosclima.xlsx\")"
   ]
  },
  {
   "cell_type": "code",
   "execution_count": 38,
   "id": "f6513102",
   "metadata": {},
   "outputs": [
    {
     "name": "stdout",
     "output_type": "stream",
     "text": [
      " El volumen de la unidad C es OS\n",
      " El número de serie del volumen es: 382B-EC55\n",
      "\n",
      " Directorio de C:\\Users\\MIGUEL\\Desktop\\PYTHON\\webscraping\\proyecto\n",
      "\n",
      "07/04/2022  11:58    <DIR>          .\n",
      "07/04/2022  10:28    <DIR>          ..\n",
      "07/04/2022  11:08    <DIR>          .ipynb_checkpoints\n",
      "07/04/2022  11:58            10.131 datosclima.xlsx\n",
      "07/04/2022  11:58            10.571 datos_clima.ipynb\n",
      "               2 archivos         20.702 bytes\n",
      "               3 dirs  164.104.151.040 bytes libres\n"
     ]
    }
   ],
   "source": [
    "!dir"
   ]
  }
 ],
 "metadata": {
  "kernelspec": {
   "display_name": "Python 3 (ipykernel)",
   "language": "python",
   "name": "python3"
  },
  "language_info": {
   "codemirror_mode": {
    "name": "ipython",
    "version": 3
   },
   "file_extension": ".py",
   "mimetype": "text/x-python",
   "name": "python",
   "nbconvert_exporter": "python",
   "pygments_lexer": "ipython3",
   "version": "3.9.7"
  }
 },
 "nbformat": 4,
 "nbformat_minor": 5
}
