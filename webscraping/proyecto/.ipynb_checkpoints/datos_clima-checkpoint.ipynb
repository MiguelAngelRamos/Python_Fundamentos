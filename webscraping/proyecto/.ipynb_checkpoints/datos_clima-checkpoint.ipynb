{
 "cells": [
  {
   "cell_type": "code",
   "execution_count": 2,
   "id": "919d2dc1",
   "metadata": {},
   "outputs": [],
   "source": [
    "import re # expresiones regulares\n",
    "import requests\n",
    "from bs4 import BeautifulSoup"
   ]
  },
  {
   "cell_type": "code",
   "execution_count": 5,
   "id": "03e142a6",
   "metadata": {},
   "outputs": [],
   "source": [
    "contenido_html = requests.get(\"https://weather.com/es-CL/tiempo/horario/l/25ef471b2bfd6c7bfba7e5df62734cb53d5ea4c92ba9c44a3e48c8e938c539b3\").content\n",
    "soup = BeautifulSoup(contenido_html, \"lxml\")"
   ]
  },
  {
   "cell_type": "code",
   "execution_count": 8,
   "id": "f3923517",
   "metadata": {},
   "outputs": [
    {
     "name": "stdout",
     "output_type": "stream",
     "text": [
      "<span class=\"DetailsSummary--tempValue--1K4ka\" data-testid=\"TemperatureValue\">24°</span>\n"
     ]
    }
   ],
   "source": [
    "print(soup.find(\"span\", class_=\"DetailsSummary--tempValue--1K4ka\"))"
   ]
  },
  {
   "cell_type": "code",
   "execution_count": 20,
   "id": "a41aacdd",
   "metadata": {},
   "outputs": [],
   "source": [
    "# Extrayendo los dias\n",
    "dias_diccionario = {}\n",
    "# currentDateId0 el numero despues del \"Id\" va cambiando\n",
    "for dia in soup.find_all(\"h3\", attrs={\"id\": re.compile(\"^currentDateId\")}):\n",
    "    #print(dia)\n",
    "    key=dia.get(\"id\").split(\"currentDateId\")[1]\n",
    "    value = dia.text # obtener el solo el texto del tag por ejemplo : jueves, 7 de abril\n",
    "    # creamos el diccionario\n",
    "    dias_diccionario[key] = value\n",
    "    \n"
   ]
  },
  {
   "cell_type": "code",
   "execution_count": 22,
   "id": "1d817d7d",
   "metadata": {},
   "outputs": [
    {
     "data": {
      "text/plain": [
       "{'0': 'jueves, 7 de abril',\n",
       " '12': 'viernes, 8 de abril',\n",
       " '36': 'sábado, 9 de abril'}"
      ]
     },
     "execution_count": 22,
     "metadata": {},
     "output_type": "execute_result"
    }
   ],
   "source": [
    "dias_diccionario"
   ]
  },
  {
   "cell_type": "code",
   "execution_count": 23,
   "id": "8e0f9678",
   "metadata": {},
   "outputs": [],
   "source": [
    "# para cada dia y cada hora\n",
    "datos = {\n",
    "    \"dia\": [],\n",
    "    \"hora\": [],\n",
    "    \"temperatura\": [],\n",
    "    \"nubosidad\": [],\n",
    "    \"precipitacion\": [],\n",
    "    \"viento\": []\n",
    "}\n",
    "# las ventjas de usar un diccionario es para tener la informacion ordenada \n",
    "# y luego transformarla en un data frame"
   ]
  },
  {
   "cell_type": "code",
   "execution_count": 29,
   "id": "9c032179",
   "metadata": {},
   "outputs": [
    {
     "name": "stdout",
     "output_type": "stream",
     "text": [
      "0\n",
      "0\n",
      "0\n",
      "0\n",
      "0\n",
      "0\n",
      "0\n",
      "0\n",
      "0\n",
      "0\n",
      "0\n",
      "0\n",
      "12\n",
      "12\n",
      "12\n",
      "12\n",
      "12\n",
      "12\n",
      "12\n",
      "12\n",
      "12\n",
      "12\n",
      "12\n",
      "12\n",
      "12\n",
      "12\n",
      "12\n",
      "12\n",
      "12\n",
      "12\n",
      "12\n",
      "12\n",
      "12\n",
      "12\n",
      "12\n",
      "12\n",
      "36\n",
      "36\n",
      "36\n",
      "36\n",
      "36\n",
      "36\n",
      "36\n",
      "36\n",
      "36\n",
      "36\n",
      "36\n",
      "36\n"
     ]
    }
   ],
   "source": [
    "# vamos a tomar los datos por hora en el resumen(summary no existe una id)\n",
    "for datos_por_hora in soup.find_all(\"summary\", class_=\"Disclosure--Summary--UuybP DaypartDetails--Summary--3IBUr Disclosure--hideBorderOnSummaryOpen--ZdSDc\"):\n",
    "    key = datos_por_hora.get(\"aria-labelledby\").split()[0].split(\"currentDateId\")[1]\n",
    "    datos[\"dia\"].append(dias_diccionario[key])\n",
    "    datos[\"hora\"].append(datos_por_hora.find(\"h2\", attrs={\"data-testid\":\"daypartName\"}).text)\n",
    "    datos[\"temperatura\"].append(datos_por_hora.find(\"div\", attrs={\"data-testid\":\"detailsTemperature\"}).span.text)\n",
    "    datos[\"nubosidad\"].append(datos_por_hora.find(\"div\", attrs={\"data-testid\":\"wxIcon\"}).span.text)\n",
    "    datos[\"precipitacion\"].append(datos_por_hora.find())\n",
    "    datos[\"viento\"].append(datos_por_hora.find())\n",
    "    "
   ]
  }
 ],
 "metadata": {
  "kernelspec": {
   "display_name": "Python 3 (ipykernel)",
   "language": "python",
   "name": "python3"
  },
  "language_info": {
   "codemirror_mode": {
    "name": "ipython",
    "version": 3
   },
   "file_extension": ".py",
   "mimetype": "text/x-python",
   "name": "python",
   "nbconvert_exporter": "python",
   "pygments_lexer": "ipython3",
   "version": "3.9.7"
  }
 },
 "nbformat": 4,
 "nbformat_minor": 5
}
